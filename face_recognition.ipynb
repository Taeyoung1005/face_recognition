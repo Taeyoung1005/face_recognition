{
 "cells": [
  {
   "cell_type": "code",
   "execution_count": 1,
   "metadata": {},
   "outputs": [],
   "source": [
    "import cv2"
   ]
  },
  {
   "cell_type": "code",
   "execution_count": 37,
   "metadata": {},
   "outputs": [],
   "source": [
    "faceCascade = cv2.CascadeClassifier('./haarcascade_frontalface_default.xml')"
   ]
  },
  {
   "cell_type": "code",
   "execution_count": 38,
   "metadata": {},
   "outputs": [
    {
     "data": {
      "text/plain": [
       "True"
      ]
     },
     "execution_count": 38,
     "metadata": {},
     "output_type": "execute_result"
    }
   ],
   "source": [
    "capture = cv2.VideoCapture(0) # initialize, # is camera number\n",
    "capture.set(cv2.CAP_PROP_FRAME_WIDTH,1280) #CAP_PROP_FRAME_WIDTH == 3\n",
    "capture.set(cv2.CAP_PROP_FRAME_HEIGHT,720) #CAP_PROP_FRAME_HEIGHT == 4"
   ]
  },
  {
   "cell_type": "code",
   "execution_count": 39,
   "metadata": {},
   "outputs": [
    {
     "name": "stdout",
     "output_type": "stream",
     "text": [
      "\n",
      " [INFO] Initializing face capture. Look the camera and wait ...\n"
     ]
    }
   ],
   "source": [
    "face_id = input('\\n enter user id end press <return> ==> ')\n",
    "print(\"\\n [INFO] Initializing face capture. Look the camera and wait ...\")"
   ]
  },
  {
   "cell_type": "code",
   "execution_count": 40,
   "metadata": {},
   "outputs": [],
   "source": [
    "count = 0 # # of caputre face images\n",
    "#영상 처리 및 출력\n",
    "while True: \n",
    "    ret, frame = capture.read() #카메라 상태 및 프레임\n",
    "    # cf. frame = cv2.flip(frame, -1) 상하반전\n",
    "    gray = cv2.cvtColor(frame, cv2.COLOR_BGR2GRAY) #흑백으로\n",
    "    faces = faceCascade.detectMultiScale(\n",
    "        gray,#검출하고자 하는 원본이미지\n",
    "        scaleFactor = 1.2, #검색 윈도우 확대 비율, 1보다 커야 한다\n",
    "        minNeighbors = 6, #얼굴 사이 최소 간격(픽셀)\n",
    "        minSize=(24,24) #얼굴 최소 크기. 이것보다 작으면 무시\n",
    "    )\n",
    "\n",
    "    #얼굴에 대해 rectangle 출력\n",
    "    for (x,y,w,h) in faces:\n",
    "        cv2.rectangle(frame,(x,y),(x+w,y+h),(255,0,0),2)\n",
    "        #inputOutputArray, point1 , 2, colorBGR, thickness)\n",
    "        count += 1\n",
    "        cv2.imwrite(\"dataset/User.\"+str(face_id)+'.'+str(count)+\".jpg\",gray[y:y+h, x:x+w])\n",
    "        \n",
    "    cv2.imshow('image',frame)\n",
    "\n",
    "\t#종료조건\n",
    "    if cv2.waitKey(1) > 0 : break #키 입력이 있을 때 반복문 종료\n",
    "    elif count >= 500 : break #100 face sample"
   ]
  },
  {
   "cell_type": "code",
   "execution_count": 41,
   "metadata": {},
   "outputs": [],
   "source": [
    "import cv2\n",
    "import numpy as np #배열 계산 용이\n",
    "from PIL import Image #python imaging library\n",
    "import os\n",
    "\n",
    "detector = cv2.CascadeClassifier('./haarcascade_frontalface_default.xml')"
   ]
  },
  {
   "cell_type": "code",
   "execution_count": 42,
   "metadata": {},
   "outputs": [],
   "source": [
    "def getImagesAndLabels(path):\n",
    "    imagePaths = [os.path.join(path,f) for f in os.listdir(path)]\n",
    "    #listdir : 해당 디렉토리 내 파일 리스트\n",
    "    #path + file Name : 경로 list 만들기\n",
    "\n",
    "    faceSamples = []\n",
    "    ids = []\n",
    "    for imagePath in imagePaths: #각 파일마다\n",
    "        #흑백 변환\n",
    "        PIL_img = Image.open(imagePath).convert('L') #L : 8 bit pixel, bw\n",
    "        img_numpy = np.array(PIL_img, 'uint8')\n",
    "\n",
    "        #user id\n",
    "        id = int(os.path.split(imagePath)[-1].split(\".\")[1])#마지막 index : -1\n",
    "\n",
    "        #학습을 위한 얼굴 샘플\n",
    "        faces = detector.detectMultiScale(img_numpy)\n",
    "        for(x,y,w,h) in faces:\n",
    "            faceSamples.append(img_numpy[y:y+h,x:x+w])\n",
    "            ids.append(id)\n",
    "\n",
    "    return faceSamples, ids"
   ]
  },
  {
   "cell_type": "code",
   "execution_count": 43,
   "metadata": {},
   "outputs": [],
   "source": [
    "path = 'dataset'\n",
    "recognizer = cv2.face.LBPHFaceRecognizer_create()"
   ]
  },
  {
   "cell_type": "code",
   "execution_count": 48,
   "metadata": {},
   "outputs": [
    {
     "name": "stdout",
     "output_type": "stream",
     "text": [
      "\n",
      " [INFO] Training faces. It will take a few seconds. Wait ...\n",
      "\n",
      " [INFO] 1 faces trained. Exiting Program\n"
     ]
    }
   ],
   "source": [
    "print('\\n [INFO] Training faces. It will take a few seconds. Wait ...')\n",
    "faces, ids = getImagesAndLabels(path)\n",
    "\n",
    "recognizer.train(faces,np.array(ids)) #학습\n",
    "\n",
    "recognizer.write(\"./trainer/trainer.yml\")\n",
    "print('\\n [INFO] {0} faces trained. Exiting Program'.format(len(np.unique(ids))))"
   ]
  },
  {
   "cell_type": "code",
   "execution_count": 1,
   "metadata": {},
   "outputs": [
    {
     "name": "stdout",
     "output_type": "stream",
     "text": [
      "\n",
      " [INFO] Exiting Program and cleanup stuff\n"
     ]
    }
   ],
   "source": [
    "import cv2\n",
    "import numpy as np\n",
    "import os \n",
    "recognizer = cv2.face.LBPHFaceRecognizer_create()\n",
    "recognizer.read('./trainer/trainer.yml')\n",
    "cascadePath = \"./haarcascade_frontalface_default.xml\"\n",
    "faceCascade = cv2.CascadeClassifier(cascadePath)\n",
    "font = cv2.FONT_HERSHEY_SIMPLEX\n",
    "#iniciate id counter\n",
    "id = 0\n",
    "# names related to ids: example ==> Marcelo: id=1,  etc\n",
    "names = ['None', 'Taeyoung'] \n",
    "# Initialize and start realtime video capture\n",
    "cam = cv2.VideoCapture(0)\n",
    "cam.set(3, 640) # set video widht\n",
    "cam.set(4, 480) # set video height\n",
    "# Define min window size to be recognized as a face\n",
    "minW = 0.1*cam.get(3)\n",
    "minH = 0.1*cam.get(4)\n",
    "while True:\n",
    "    ret, img =cam.read()\n",
    "    # img = cv2.rotate(img, cv2.ROTATE_180)\n",
    "    # img = cv2.flip(img, -1) # Flip vertically\n",
    "    gray = cv2.cvtColor(img, cv2.COLOR_BGR2GRAY)\n",
    "    \n",
    "    faces = faceCascade.detectMultiScale( \n",
    "        gray,\n",
    "        scaleFactor = 1.2,\n",
    "        minNeighbors = 5,\n",
    "        minSize = (int(minW), int(minH)),\n",
    "       )\n",
    "    for(x,y,w,h) in faces:\n",
    "        cv2.rectangle(img, (x,y), (x+w,y+h), (0,255,0), 2)\n",
    "        id, confidence = recognizer.predict(gray[y:y+h,x:x+w])\n",
    "        # Check if confidence is less them 100 ==> \"0\" is perfect match \n",
    "        if (50 < confidence and confidence < 100):\n",
    "            id = names[id]\n",
    "            confidence = \"  {0}%\".format(round(100 - confidence))\n",
    "        else:\n",
    "            id = \"unknown\"\n",
    "            confidence = \"  {0}%\".format(round(100 - confidence))\n",
    "        \n",
    "        cv2.putText(img, id, (x+5,y-5), font, 1, (255,255,255), 2)\n",
    "        cv2.putText(img, str(confidence), (x+5,y+h-5), font, 1, (255,255,0), 1)  \n",
    "    \n",
    "    cv2.imshow('camera', img) \n",
    "    if cv2.waitKey(1) > 0 : \n",
    "        break #키 입력이 있을 때 반복문 종료\n",
    "# Do a bit of cleanup\n",
    "print(\"\\n [INFO] Exiting Program and cleanup stuff\")\n",
    "cam.release()\n",
    "cv2.destroyAllWindows()\n"
   ]
  },
  {
   "cell_type": "code",
   "execution_count": null,
   "metadata": {},
   "outputs": [],
   "source": [
    "dsadasd"
   ]
  }
 ],
 "metadata": {
  "kernelspec": {
   "display_name": "Python 3",
   "language": "python",
   "name": "python3"
  },
  "language_info": {
   "codemirror_mode": {
    "name": "ipython",
    "version": 3
   },
   "file_extension": ".py",
   "mimetype": "text/x-python",
   "name": "python",
   "nbconvert_exporter": "python",
   "pygments_lexer": "ipython3",
   "version": "3.11.0"
  },
  "orig_nbformat": 4,
  "vscode": {
   "interpreter": {
    "hash": "208da37b56ffba008edcc19e96ed37dedc01838076d328ff616a14d5acaac3b8"
   }
  }
 },
 "nbformat": 4,
 "nbformat_minor": 2
}
